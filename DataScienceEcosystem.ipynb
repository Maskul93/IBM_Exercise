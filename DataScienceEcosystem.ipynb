{
 "cells": [
  {
   "cell_type": "markdown",
   "id": "75cd0bea-b6b8-410a-9bba-3cb654bdf4c6",
   "metadata": {},
   "source": [
    "# Data Science Tools and Ecosystem"
   ]
  },
  {
   "cell_type": "markdown",
   "id": "6ff72dfa-bae3-45e0-8d47-3f48f26f5196",
   "metadata": {},
   "source": [
    "This notebook contains a summary of Data Science tools and Ecosystems."
   ]
  },
  {
   "cell_type": "markdown",
   "id": "f6cefb39-75bf-40ae-a1ef-02325d8bc7d2",
   "metadata": {},
   "source": [
    "**Objectives:**\n",
    " - Popular Data Science programming languages;\n",
    " - Commonly used libraries by Data Scientists;\n",
    " - Main Open Source Development Environment in Data Science;\n",
    " - Execute simple arithmetic operations in a Jupyter Notebook;\n",
    " - Write both *Code* and *Markdown* cells in a Jupyter Notebook."
   ]
  },
  {
   "cell_type": "markdown",
   "id": "a0d7cb81-d076-4918-8724-55cc75dd1202",
   "metadata": {},
   "source": [
    "Some of the most frequently used Data Science languages include:\n",
    "\n",
    "1. Python\n",
    "2. R\n",
    "3. Julia\n",
    "4. Scala\n",
    "\n",
    "...and many more!"
   ]
  },
  {
   "cell_type": "markdown",
   "id": "f12479d0-a8a9-4b49-9f24-8ddd0605b5dc",
   "metadata": {},
   "source": [
    "Some of the commonly used libraries used by Data Scientists include:\n",
    " 1. Numpy (Python language)\n",
    " 2. Pandas (Pyhton language)\n",
    " 3. Caret (R)\n",
    " 4. ggplot (R)"
   ]
  },
  {
   "cell_type": "markdown",
   "id": "4d68223f-b9fb-4539-886e-27e73ee0c7e9",
   "metadata": {},
   "source": [
    "| Data Science Tools |\n",
    "| --- |\n",
    "| JupyterLab |\n",
    "| Apache Zeppelin |\n",
    "| RStudio |"
   ]
  },
  {
   "cell_type": "markdown",
   "id": "1cdb84e6-d4af-4b30-9bcf-feed8a675e68",
   "metadata": {},
   "source": [
    "### Below are a few examples of evaluating arithmetic expressions in Python"
   ]
  },
  {
   "cell_type": "code",
   "execution_count": 2,
   "id": "4903889d-eb49-4fdd-b1a1-7b2ce539495f",
   "metadata": {},
   "outputs": [
    {
     "data": {
      "text/plain": [
       "17"
      ]
     },
     "execution_count": 2,
     "metadata": {},
     "output_type": "execute_result"
    }
   ],
   "source": [
    "# This is a simple line that: i) multiplies two numbers; ii) adds an integer to the former multiplication.\n",
    "(3*4)+5"
   ]
  },
  {
   "cell_type": "code",
   "execution_count": 3,
   "id": "3f24894d-810c-458e-a3c5-aefde167cfba",
   "metadata": {},
   "outputs": [
    {
     "data": {
      "text/plain": [
       "3.3333333333333335"
      ]
     },
     "execution_count": 3,
     "metadata": {},
     "output_type": "execute_result"
    }
   ],
   "source": [
    "# This is a simple line that converts 200 minutes in hours by dividing their number by 60\n",
    "200 / 60"
   ]
  },
  {
   "cell_type": "markdown",
   "id": "a315f531-8113-4449-91bc-529aa472c824",
   "metadata": {},
   "source": [
    "## Author\n",
    "Guido Mascia, PhD"
   ]
  }
 ],
 "metadata": {
  "kernelspec": {
   "display_name": "Python 3 (ipykernel)",
   "language": "python",
   "name": "python3"
  },
  "language_info": {
   "codemirror_mode": {
    "name": "ipython",
    "version": 3
   },
   "file_extension": ".py",
   "mimetype": "text/x-python",
   "name": "python",
   "nbconvert_exporter": "python",
   "pygments_lexer": "ipython3",
   "version": "3.10.9"
  }
 },
 "nbformat": 4,
 "nbformat_minor": 5
}
